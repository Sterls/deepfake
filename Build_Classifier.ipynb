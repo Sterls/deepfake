{
 "cells": [
  {
   "cell_type": "markdown",
   "metadata": {},
   "source": [
    "This notebook uses the images of the extracted faces from the real/fake videos in a folder layout:\n",
    "\n",
    "Images/\n",
    "    Train/\n",
    "        Real/\n",
    "        Fake/\n",
    "    Val/\n",
    "        Real/\n",
    "        Fake/\n",
    "\n",
    "I used EfficientNet (B3) [1] with pre-trained imagenet weights as the baseline model. EfficientNet can be installed via \"pip install -U efficientnet\". I chose this model for the baseline due to its efficiency in managing the size of the overall network and performance. The layers from the efficient net were frozen and new trainable layers were added for fine-tuning. There is scope for unfreezing some pre-trained layers for better performance. \n",
    "\n",
    "The data generators used a rescale function of 1./255 as a form of normalising the pixel values. Zoom, shear, and horizontal flips were added transforms as it is common for a wide range of videos to contain faces of varying distances / shear / and orientations from/to the camera. There is scope for these transforms to be fine-tuned for better performance. \n",
    "\n",
    "[1] Tan, Mingxing, and Quoc V. Le. \"Efficientnet: Rethinking model scaling for convolutional neural networks.\" arXiv preprint arXiv:1905.11946 (2019)."
   ]
  },
  {
   "cell_type": "code",
   "execution_count": 17,
   "metadata": {},
   "outputs": [],
   "source": [
    "'''\n",
    "#Jupyter notebooks create hidden checkpoint folders which may skew the number of classes \n",
    "#detected by the data generators. In this event, use the following code to delete the hidden folders.\n",
    "\n",
    "import shutil\n",
    "shutil.rmtree(\"Images/Train/.ipynb_checkpoints\")\n",
    "shutil.rmtree(\"Images/Val/.ipynb_checkpoints\")\n",
    "'''"
   ]
  },
  {
   "cell_type": "code",
   "execution_count": 60,
   "metadata": {},
   "outputs": [],
   "source": [
    "from keras import applications\n",
    "from efficientnet.keras import EfficientNetB3\n",
    "from keras import callbacks\n",
    "from keras.models import Sequential\n",
    "from keras.preprocessing.image import ImageDataGenerator\n",
    "\n",
    "from efficientnet.keras import EfficientNetB0 \n",
    "from efficientnet.keras import center_crop_and_resize, preprocess_input\n",
    "from keras import models, layers, optimizers"
   ]
  },
  {
   "cell_type": "code",
   "execution_count": 106,
   "metadata": {},
   "outputs": [
    {
     "name": "stdout",
     "output_type": "stream",
     "text": [
      "Found 1714 images belonging to 2 classes.\n",
      "Found 226 images belonging to 2 classes.\n"
     ]
    }
   ],
   "source": [
    "img_size = 224\n",
    "batch_size = 16\n",
    "num_train = 1714\n",
    "num_val = 226\n",
    "train_dir = 'Images/Train'\n",
    "val_dir = 'Images/Val'\n",
    "\n",
    "train_datagen = ImageDataGenerator( \n",
    "                rescale = 1. / 255, \n",
    "                 shear_range = 0.2, \n",
    "                  zoom_range = 0.2, \n",
    "            horizontal_flip = True,\n",
    "                fill_mode='nearest') \n",
    "  \n",
    "test_datagen = ImageDataGenerator(rescale = 1. / 255) \n",
    "  \n",
    "train_generator = train_datagen.flow_from_directory(\n",
    "                                            train_dir, \n",
    "                    target_size =(img_size, img_size), \n",
    "                                batch_size = batch_size, \n",
    "                                class_mode ='binary') \n",
    "  \n",
    "validation_generator = test_datagen.flow_from_directory( \n",
    "                                                val_dir, \n",
    "                        target_size =(img_size, img_size), \n",
    "                                    batch_size = batch_size, \n",
    "                                    class_mode ='binary') "
   ]
  },
  {
   "cell_type": "code",
   "execution_count": 121,
   "metadata": {},
   "outputs": [],
   "source": [
    "input_shape = (224, 224, 3)\n",
    "\n",
    "#Use transfer learning for the first set of layers\n",
    "#Include pre-trained imagenet weights\n",
    "eff_net = EfficientNetB3(\n",
    "        weights='imagenet',\n",
    "    input_shape=input_shape,\n",
    "            include_top=False\n",
    ")"
   ]
  },
  {
   "cell_type": "code",
   "execution_count": 122,
   "metadata": {},
   "outputs": [
    {
     "name": "stdout",
     "output_type": "stream",
     "text": [
      "Model: \"sequential_19\"\n",
      "_________________________________________________________________\n",
      "Layer (type)                 Output Shape              Param #   \n",
      "=================================================================\n",
      "efficientnet-b3 (Model)      (None, 7, 7, 1536)        10783528  \n",
      "_________________________________________________________________\n",
      "flatten_13 (Flatten)         (None, 75264)             0         \n",
      "_________________________________________________________________\n",
      "dense_19 (Dense)             (None, 256)               19267840  \n",
      "_________________________________________________________________\n",
      "dropout_11 (Dropout)         (None, 256)               0         \n",
      "_________________________________________________________________\n",
      "dense_20 (Dense)             (None, 128)               32896     \n",
      "_________________________________________________________________\n",
      "dropout_12 (Dropout)         (None, 128)               0         \n",
      "_________________________________________________________________\n",
      "batch_normalization_2 (Batch (None, 128)               512       \n",
      "_________________________________________________________________\n",
      "dense_21 (Dense)             (None, 1)                 129       \n",
      "=================================================================\n",
      "Total params: 30,084,905\n",
      "Trainable params: 29,997,353\n",
      "Non-trainable params: 87,552\n",
      "_________________________________________________________________\n"
     ]
    }
   ],
   "source": [
    "#Add fully connected final layers to fine-tune training to specific task\n",
    "model = Sequential()\n",
    "model.add(eff_net)\n",
    "\n",
    "model.add(layers.Flatten())\n",
    "model.add(layers.Dense(256, activation='relu'))\n",
    "model.add(layers.Dropout(0.2))\n",
    "model.add(layers.Dense(128, activation='relu'))\n",
    "model.add(layers.Dropout(0.1))\n",
    "model.add(layers.BatchNormalization())\n",
    "model.add(layers.Dense(1, activation='sigmoid'))\n",
    "model.summary()"
   ]
  },
  {
   "cell_type": "code",
   "execution_count": 123,
   "metadata": {},
   "outputs": [
    {
     "name": "stdout",
     "output_type": "stream",
     "text": [
      "This is the number of trainable layers before freezing eff_net base: 346\n",
      "This is the number of trainable layers after freezing the eff_net base: 8\n"
     ]
    }
   ],
   "source": [
    "print('This is the number of trainable layers '\n",
    "      'before freezing eff_net base:', len(model.trainable_weights))\n",
    "\n",
    "#Freeze the pretrained layers\n",
    "eff_net.trainable = False\n",
    "\n",
    "print('This is the number of trainable layers '\n",
    "      'after freezing the eff_net base:', len(model.trainable_weights))"
   ]
  },
  {
   "cell_type": "code",
   "execution_count": 124,
   "metadata": {},
   "outputs": [],
   "source": [
    "model.compile(\n",
    "            loss='binary_crossentropy',\n",
    "        optimizer=optimizers.Adam(lr=1e-5),\n",
    "                          metrics=['accuracy'])"
   ]
  },
  {
   "cell_type": "code",
   "execution_count": 125,
   "metadata": {},
   "outputs": [
    {
     "name": "stdout",
     "output_type": "stream",
     "text": [
      "Epoch 1/30\n",
      "100/100 [==============================] - 13s 128ms/step - loss: 0.9068 - accuracy: 0.4918 - val_loss: 0.7721 - val_accuracy: 0.5048\n",
      "Epoch 2/30\n",
      "100/100 [==============================] - 6s 63ms/step - loss: 0.8723 - accuracy: 0.5044 - val_loss: 0.8680 - val_accuracy: 0.5000\n",
      "Epoch 3/30\n",
      "100/100 [==============================] - 6s 64ms/step - loss: 0.8676 - accuracy: 0.4893 - val_loss: 0.8086 - val_accuracy: 0.4845\n",
      "Epoch 4/30\n",
      "100/100 [==============================] - 6s 63ms/step - loss: 0.8331 - accuracy: 0.5075 - val_loss: 0.9511 - val_accuracy: 0.4845\n",
      "Epoch 5/30\n",
      "100/100 [==============================] - 6s 63ms/step - loss: 0.8363 - accuracy: 0.5083 - val_loss: 0.8715 - val_accuracy: 0.4897\n",
      "Epoch 6/30\n",
      "100/100 [==============================] - 6s 64ms/step - loss: 0.8434 - accuracy: 0.4863 - val_loss: 0.8250 - val_accuracy: 0.5206\n",
      "Epoch 7/30\n",
      "100/100 [==============================] - 6s 63ms/step - loss: 0.8125 - accuracy: 0.4892 - val_loss: 0.9262 - val_accuracy: 0.5155\n",
      "Epoch 8/30\n",
      "100/100 [==============================] - 6s 56ms/step - loss: 0.8058 - accuracy: 0.4956 - val_loss: 0.5884 - val_accuracy: 0.4952\n",
      "Epoch 9/30\n",
      "100/100 [==============================] - 6s 63ms/step - loss: 0.8373 - accuracy: 0.4880 - val_loss: 0.7309 - val_accuracy: 0.5258\n",
      "Epoch 10/30\n",
      "100/100 [==============================] - 6s 63ms/step - loss: 0.7928 - accuracy: 0.5069 - val_loss: 0.8552 - val_accuracy: 0.5000\n",
      "Epoch 11/30\n",
      "100/100 [==============================] - 6s 62ms/step - loss: 0.8128 - accuracy: 0.4880 - val_loss: 0.7675 - val_accuracy: 0.5052\n",
      "Epoch 12/30\n",
      "100/100 [==============================] - 6s 63ms/step - loss: 0.8003 - accuracy: 0.4855 - val_loss: 0.9516 - val_accuracy: 0.4691\n",
      "Epoch 13/30\n",
      "100/100 [==============================] - 6s 63ms/step - loss: 0.7609 - accuracy: 0.5233 - val_loss: 0.8308 - val_accuracy: 0.5412\n",
      "Epoch 14/30\n",
      "100/100 [==============================] - 6s 55ms/step - loss: 0.7967 - accuracy: 0.4962 - val_loss: 0.7593 - val_accuracy: 0.4897\n",
      "Epoch 15/30\n",
      "100/100 [==============================] - 6s 56ms/step - loss: 0.7785 - accuracy: 0.5032 - val_loss: 0.9068 - val_accuracy: 0.4794\n",
      "Epoch 16/30\n",
      "100/100 [==============================] - 6s 63ms/step - loss: 0.7806 - accuracy: 0.5050 - val_loss: 0.7782 - val_accuracy: 0.5192\n",
      "Epoch 17/30\n",
      "100/100 [==============================] - 6s 64ms/step - loss: 0.7985 - accuracy: 0.4905 - val_loss: 0.8687 - val_accuracy: 0.4330\n",
      "Epoch 18/30\n",
      "100/100 [==============================] - 6s 63ms/step - loss: 0.7724 - accuracy: 0.5107 - val_loss: 0.7502 - val_accuracy: 0.5515\n",
      "Epoch 19/30\n",
      "100/100 [==============================] - 6s 64ms/step - loss: 0.7816 - accuracy: 0.5019 - val_loss: 0.6945 - val_accuracy: 0.5000\n",
      "Epoch 20/30\n",
      "100/100 [==============================] - 6s 64ms/step - loss: 0.7752 - accuracy: 0.5006 - val_loss: 0.8147 - val_accuracy: 0.5155\n",
      "Epoch 21/30\n",
      "100/100 [==============================] - 6s 63ms/step - loss: 0.7647 - accuracy: 0.5145 - val_loss: 1.0033 - val_accuracy: 0.4691\n",
      "Epoch 22/30\n",
      "100/100 [==============================] - 6s 63ms/step - loss: 0.7816 - accuracy: 0.4885 - val_loss: 0.6693 - val_accuracy: 0.5206\n",
      "Epoch 23/30\n",
      "100/100 [==============================] - 6s 56ms/step - loss: 0.7707 - accuracy: 0.5240 - val_loss: 0.8208 - val_accuracy: 0.4904\n",
      "Epoch 24/30\n",
      "100/100 [==============================] - 6s 63ms/step - loss: 0.7845 - accuracy: 0.4905 - val_loss: 0.7841 - val_accuracy: 0.5052\n",
      "Epoch 25/30\n",
      "100/100 [==============================] - 6s 64ms/step - loss: 0.7820 - accuracy: 0.4794 - val_loss: 0.6609 - val_accuracy: 0.4845\n",
      "Epoch 26/30\n",
      "100/100 [==============================] - 6s 63ms/step - loss: 0.7940 - accuracy: 0.4735 - val_loss: 0.8154 - val_accuracy: 0.4691\n",
      "Epoch 27/30\n",
      "100/100 [==============================] - 6s 61ms/step - loss: 0.7546 - accuracy: 0.5063 - val_loss: 0.6034 - val_accuracy: 0.5619\n",
      "Epoch 28/30\n",
      "100/100 [==============================] - 6s 55ms/step - loss: 0.7736 - accuracy: 0.4994 - val_loss: 0.8002 - val_accuracy: 0.4794\n",
      "Epoch 29/30\n",
      "100/100 [==============================] - 6s 62ms/step - loss: 0.7522 - accuracy: 0.5120 - val_loss: 0.8440 - val_accuracy: 0.5000\n",
      "Epoch 30/30\n",
      "100/100 [==============================] - 6s 56ms/step - loss: 0.7728 - accuracy: 0.5044 - val_loss: 0.7819 - val_accuracy: 0.5052\n"
     ]
    }
   ],
   "source": [
    "train_metrics = model.fit_generator(\n",
    "    train_generator,\n",
    "    epochs = 30,\n",
    "    steps_per_epoch = num_train // batch_size,\n",
    "    validation_data = validation_generator,\n",
    "    validation_steps= num_val // batch_size,\n",
    "    verbose=1,\n",
    "    use_multiprocessing=True,\n",
    "    workers=8\n",
    ")"
   ]
  },
  {
   "cell_type": "code",
   "execution_count": 126,
   "metadata": {},
   "outputs": [
    {
     "data": {
      "image/png": "[encoded data removed]",
      "text/plain": [
       "<Figure size 432x288 with 1 Axes>"
      ]
     },
     "metadata": {
      "needs_background": "light"
     },
     "output_type": "display_data"
    },
    {
     "data": {
      "image/png": "[encoded data removed]",
      "text/plain": [
       "<Figure size 432x288 with 1 Axes>"
      ]
     },
     "metadata": {
      "needs_background": "light"
     },
     "output_type": "display_data"
    }
   ],
   "source": [
    "import matplotlib.pyplot as plt\n",
    "\n",
    "acc = train_metrics.history['accuracy']\n",
    "val_acc = train_metrics.history['val_accuracy']\n",
    "loss = train_metrics.history['loss']\n",
    "val_loss = train_metrics.history['val_loss']\n",
    "\n",
    "epochs = range(1,len(acc) + 1)\n",
    "\n",
    "plt.plot(epochs,acc,'bo',label = 'Training Accuracy')\n",
    "plt.plot(epochs,val_acc,'b',label = 'Validation Accuracy')\n",
    "plt.title('Training and Validation Accuracy')\n",
    "plt.legend()\n",
    "plt.figure()\n",
    "\n",
    "plt.plot(epochs,loss,'bo',label = 'Training loss')\n",
    "plt.plot(epochs,val_loss,'b',label = 'Validation Loss')\n",
    "plt.title('Training and Validation Loss')\n",
    "plt.legend()\n",
    "\n",
    "plt.show()"
   ]
  },
  {
   "cell_type": "code",
   "execution_count": 120,
   "metadata": {},
   "outputs": [],
   "source": [
    "model.save_weights('model_saved.h5') "
   ]
  },
  {
   "cell_type": "code",
   "execution_count": null,
   "metadata": {},
   "outputs": [],
   "source": []
  }
 ],
 "metadata": {
  "kernelspec": {
   "display_name": "Python 3",
   "language": "python",
   "name": "python3"
  },
  "language_info": {
   "codemirror_mode": {
    "name": "ipython",
    "version": 3
   },
   "file_extension": ".py",
   "mimetype": "text/x-python",
   "name": "python",
   "nbconvert_exporter": "python",
   "pygments_lexer": "ipython3",
   "version": "3.6.9"
  }
 },
 "nbformat": 4,
 "nbformat_minor": 4
}
