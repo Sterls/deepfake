{
 "cells": [
  {
   "cell_type": "markdown",
   "metadata": {},
   "source": [
    "This notebook uses the images of the extracted faces from the real/fake videos in a folder layout:\n",
    "\n",
    "Images/\n",
    "    Train/\n",
    "        Real/\n",
    "        Fake/\n",
    "    Val/\n",
    "        Real/\n",
    "        Fake/\n",
    "\n",
    "I used EfficientNet (B3) [1] with pre-trained imagenet weights as the baseline model. EfficientNet can be installed via \"pip install -U efficientnet\". I chose this model for the baseline due to its efficiency in managing the size of the overall network and performance. The layers from the efficient net were frozen and new trainable layers were added for fine-tuning. There is scope for unfreezing some pre-trained layers for better performance. \n",
    "\n",
    "The data generators used a rescale function of 1./255 as a form of normalising the pixel values. Zoom, shear, and horizontal flips were added transforms as it is common for a wide range of videos to contain faces of varying distances / shear / and orientations from/to the camera. There is scope for these transforms to be fine-tuned for better performance. \n",
    "\n",
    "[1] Tan, Mingxing, and Quoc V. Le. \"Efficientnet: Rethinking model scaling for convolutional neural networks.\" arXiv preprint arXiv:1905.11946 (2019)."
   ]
  },
  {
   "cell_type": "code",
   "execution_count": 1,
   "metadata": {},
   "outputs": [
    {
     "data": {
      "text/plain": [
       "'\\n#Jupyter notebooks create hidden checkpoint folders which may skew the number of classes \\n#detected by the data generators. In this event, use the following code to delete the hidden folders.\\n\\nimport shutil\\nshutil.rmtree(\"Images/Train/.ipynb_checkpoints\")\\nshutil.rmtree(\"Images/Val/.ipynb_checkpoints\")\\n'"
      ]
     },
     "execution_count": 1,
     "metadata": {},
     "output_type": "execute_result"
    }
   ],
   "source": [
    "'''\n",
    "#Jupyter notebooks create hidden checkpoint folders which may skew the number of classes \n",
    "#detected by the data generators. In this event, use the following code to delete the hidden folders.\n",
    "\n",
    "import shutil\n",
    "shutil.rmtree(\"Images/Train/.ipynb_checkpoints\")\n",
    "shutil.rmtree(\"Images/Val/.ipynb_checkpoints\")\n",
    "'''"
   ]
  },
  {
   "cell_type": "code",
   "execution_count": 2,
   "metadata": {},
   "outputs": [
    {
     "data": {
      "text/plain": [
       "'import os, os.path\\n\\nfor root, _, files in os.walk(\"Images/Val/Real\"):\\n    for f in files:\\n        fullpath = os.path.join(root, f)\\n        try:\\n            if os.path.getsize(fullpath) < 1:   #set file size in kb\\n                print(fullpath)\\n                os.remove(fullpath)\\n        except WindowsError:\\n            print(\"Error\" + fullpath)'"
      ]
     },
     "execution_count": 2,
     "metadata": {},
     "output_type": "execute_result"
    }
   ],
   "source": [
    "'''import os, os.path\n",
    "\n",
    "for root, _, files in os.walk(\"Images/Val/Real\"):\n",
    "    for f in files:\n",
    "        fullpath = os.path.join(root, f)\n",
    "        try:\n",
    "            if os.path.getsize(fullpath) < 1:   #set file size in kb\n",
    "                print(fullpath)\n",
    "                os.remove(fullpath)\n",
    "        except WindowsError:\n",
    "            print(\"Error\" + fullpath)'''"
   ]
  },
  {
   "cell_type": "code",
   "execution_count": 1,
   "metadata": {},
   "outputs": [
    {
     "name": "stderr",
     "output_type": "stream",
     "text": [
      "Using TensorFlow backend.\n"
     ]
    }
   ],
   "source": [
    "from keras import applications\n",
    "from efficientnet.keras import EfficientNetB5\n",
    "from keras import callbacks\n",
    "from keras.models import Sequential\n",
    "from keras.preprocessing.image import ImageDataGenerator\n",
    "\n",
    "from efficientnet.keras import center_crop_and_resize, preprocess_input\n",
    "from keras import models, layers, optimizers\n",
    "import keras"
   ]
  },
  {
   "cell_type": "code",
   "execution_count": 2,
   "metadata": {},
   "outputs": [
    {
     "name": "stdout",
     "output_type": "stream",
     "text": [
      "Found 13226 images belonging to 2 classes.\n",
      "Found 6277 images belonging to 2 classes.\n"
     ]
    }
   ],
   "source": [
    "img_size = 224\n",
    "input_shape = (img_size, img_size, 3)\n",
    "batch_size = 16\n",
    "num_train = 13226\n",
    "num_val = 6277\n",
    "class_mode = 'binary'\n",
    "train_dir = 'Images/Train'\n",
    "val_dir = 'Images/Val'\n",
    "\n",
    "train_datagen = ImageDataGenerator( \n",
    "                rescale = 1. / 255, \n",
    "            horizontal_flip = True,\n",
    "                rotation_range=0.2,\n",
    "            brightness_range=(-0.2,0.2),\n",
    "                fill_mode='nearest') \n",
    "  \n",
    "test_datagen = ImageDataGenerator(rescale = 1. / 255) \n",
    "  \n",
    "train_generator = train_datagen.flow_from_directory(\n",
    "                                            train_dir, \n",
    "                    target_size =(img_size, img_size), \n",
    "                                batch_size = batch_size, \n",
    "                                class_mode = class_mode) \n",
    "  \n",
    "validation_generator = test_datagen.flow_from_directory( \n",
    "                                                val_dir, \n",
    "                        target_size =(img_size, img_size), \n",
    "                                    batch_size = batch_size, \n",
    "                                    class_mode =class_mode) "
   ]
  },
  {
   "cell_type": "code",
   "execution_count": 3,
   "metadata": {},
   "outputs": [
    {
     "name": "stdout",
     "output_type": "stream",
     "text": [
      "WARNING:tensorflow:From /usr/lib/python3/dist-packages/tensorflow_core/python/ops/resource_variable_ops.py:1630: calling BaseResourceVariable.__init__ (from tensorflow.python.ops.resource_variable_ops) with constraint is deprecated and will be removed in a future version.\n",
      "Instructions for updating:\n",
      "If using Keras pass *_constraint arguments to layers.\n"
     ]
    }
   ],
   "source": [
    "#Use transfer learning for the first set of layers\n",
    "#Include pre-trained imagenet weights\n",
    "eff_net = EfficientNetB5(\n",
    "        weights='imagenet',\n",
    "    input_shape=input_shape,\n",
    "            include_top=False,\n",
    "    classes=1\n",
    ")"
   ]
  },
  {
   "cell_type": "code",
   "execution_count": 4,
   "metadata": {},
   "outputs": [
    {
     "name": "stdout",
     "output_type": "stream",
     "text": [
      "Model: \"sequential_1\"\n",
      "_________________________________________________________________\n",
      "Layer (type)                 Output Shape              Param #   \n",
      "=================================================================\n",
      "efficientnet-b5 (Model)      (None, 7, 7, 2048)        28513520  \n",
      "_________________________________________________________________\n",
      "flatten_1 (Flatten)          (None, 100352)            0         \n",
      "_________________________________________________________________\n",
      "batch_normalization_1 (Batch (None, 100352)            401408    \n",
      "_________________________________________________________________\n",
      "dropout_1 (Dropout)          (None, 100352)            0         \n",
      "_________________________________________________________________\n",
      "dense_1 (Dense)              (None, 512)               51380736  \n",
      "_________________________________________________________________\n",
      "batch_normalization_2 (Batch (None, 512)               2048      \n",
      "_________________________________________________________________\n",
      "dropout_2 (Dropout)          (None, 512)               0         \n",
      "_________________________________________________________________\n",
      "dense_2 (Dense)              (None, 256)               131328    \n",
      "_________________________________________________________________\n",
      "batch_normalization_3 (Batch (None, 256)               1024      \n",
      "_________________________________________________________________\n",
      "dropout_3 (Dropout)          (None, 256)               0         \n",
      "_________________________________________________________________\n",
      "dense_3 (Dense)              (None, 1)                 257       \n",
      "=================================================================\n",
      "Total params: 80,430,321\n",
      "Trainable params: 80,055,345\n",
      "Non-trainable params: 374,976\n",
      "_________________________________________________________________\n"
     ]
    }
   ],
   "source": [
    "model = Sequential()\n",
    "model.add(eff_net)\n",
    "\n",
    "model.add(layers.Flatten())\n",
    "model.add(layers.BatchNormalization())\n",
    "model.add(layers.Dropout(0.4))\n",
    "model.add(layers.Dense(512, activation='relu'))\n",
    "model.add(layers.BatchNormalization())\n",
    "model.add(layers.Dropout(0.4))\n",
    "model.add(layers.Dense(256, activation='relu'))\n",
    "model.add(layers.BatchNormalization())\n",
    "model.add(layers.Dropout(0.4))\n",
    "model.add(layers.Dense(1, activation='sigmoid'))\n",
    "model.summary()"
   ]
  },
  {
   "cell_type": "code",
   "execution_count": 5,
   "metadata": {},
   "outputs": [
    {
     "name": "stdout",
     "output_type": "stream",
     "text": [
      "This is the number of trainable layers before freezing eff_net base: 516\n",
      "This is the number of trainable layers after freezing the eff_net base: 12\n"
     ]
    }
   ],
   "source": [
    "print('This is the number of trainable layers '\n",
    "      'before freezing eff_net base:', len(model.trainable_weights))\n",
    "\n",
    "#Freeze the pretrained layers\n",
    "eff_net.trainable = False\n",
    "\n",
    "print('This is the number of trainable layers '\n",
    "      'after freezing the eff_net base:', len(model.trainable_weights))"
   ]
  },
  {
   "cell_type": "code",
   "execution_count": 6,
   "metadata": {},
   "outputs": [],
   "source": [
    "check_point = keras.callbacks.ModelCheckpoint(\n",
    "    filepath='model_saved.h5',\n",
    "    save_weights_only=True,\n",
    "    monitor='val_accuracy',\n",
    "    mode='max',\n",
    "    save_best_only=True)\n",
    "\n",
    "reduce_lr = keras.callbacks.ReduceLROnPlateau(monitor='val_loss', factor=0.1)\n",
    "\n",
    "early_stop = keras.callbacks.EarlyStopping(monitor='val_loss', patience=3)\n",
    "\n",
    "my_callbacks = [\n",
    "    check_point,\n",
    "    reduce_lr\n",
    "]"
   ]
  },
  {
   "cell_type": "code",
   "execution_count": 7,
   "metadata": {},
   "outputs": [
    {
     "name": "stdout",
     "output_type": "stream",
     "text": [
      "WARNING:tensorflow:From /usr/lib/python3/dist-packages/tensorflow_core/python/ops/nn_impl.py:183: where (from tensorflow.python.ops.array_ops) is deprecated and will be removed in a future version.\n",
      "Instructions for updating:\n",
      "Use tf.where in 2.0, which has the same broadcast rule as np.where\n"
     ]
    }
   ],
   "source": [
    "model.compile(\n",
    "            loss='binary_crossentropy',\n",
    "        optimizer=optimizers.Adam(lr=1e-6),\n",
    "                          metrics=['accuracy'])"
   ]
  },
  {
   "cell_type": "code",
   "execution_count": 8,
   "metadata": {},
   "outputs": [
    {
     "name": "stdout",
     "output_type": "stream",
     "text": [
      "WARNING:tensorflow:From /usr/lib/python3/dist-packages/keras/backend/tensorflow_backend.py:422: The name tf.global_variables is deprecated. Please use tf.compat.v1.global_variables instead.\n",
      "\n",
      "Epoch 1/100\n",
      "827/827 [==============================] - 84s 101ms/step - loss: 0.9964 - accuracy: 0.5050 - val_loss: 0.8735 - val_accuracy: 0.5173\n",
      "Epoch 2/100\n",
      "827/827 [==============================] - 77s 93ms/step - loss: 0.9666 - accuracy: 0.5167 - val_loss: 0.5514 - val_accuracy: 0.5332\n",
      "Epoch 3/100\n",
      "827/827 [==============================] - 78s 94ms/step - loss: 0.9473 - accuracy: 0.5273 - val_loss: 0.7312 - val_accuracy: 0.5544\n",
      "Epoch 4/100\n",
      "827/827 [==============================] - 77s 94ms/step - loss: 0.9318 - accuracy: 0.5332 - val_loss: 0.4177 - val_accuracy: 0.5654\n",
      "Epoch 5/100\n",
      "827/827 [==============================] - 78s 95ms/step - loss: 0.8974 - accuracy: 0.5386 - val_loss: 0.6964 - val_accuracy: 0.5636\n",
      "Epoch 6/100\n",
      "827/827 [==============================] - 79s 95ms/step - loss: 0.8793 - accuracy: 0.5547 - val_loss: 0.8920 - val_accuracy: 0.5930\n",
      "Epoch 6/100\n",
      "Epoch 7/100\n",
      "827/827 [==============================] - 79s 96ms/step - loss: 0.8712 - accuracy: 0.5533 - val_loss: 0.8178 - val_accuracy: 0.5816\n",
      "Epoch 8/100\n",
      "827/827 [==============================] - 80s 97ms/step - loss: 0.8601 - accuracy: 0.5603 - val_loss: 0.8093 - val_accuracy: 0.5936\n",
      "Epoch 9/100\n",
      "827/827 [==============================] - 80s 96ms/step - loss: 0.8558 - accuracy: 0.5570 - val_loss: 0.6296 - val_accuracy: 0.5899\n",
      "Epoch 10/100\n",
      "827/827 [==============================] - 80s 97ms/step - loss: 0.8382 - accuracy: 0.5687 - val_loss: 0.7394 - val_accuracy: 0.5885\n",
      "Epoch 11/100\n",
      "827/827 [==============================] - 80s 97ms/step - loss: 0.8318 - accuracy: 0.5662 - val_loss: 0.8228 - val_accuracy: 0.5958\n",
      "Epoch 12/100\n",
      "827/827 [==============================] - 80s 96ms/step - loss: 0.8258 - accuracy: 0.5674 - val_loss: 0.7689 - val_accuracy: 0.5998\n",
      "Epoch 13/100\n",
      "827/827 [==============================] - 80s 97ms/step - loss: 0.8301 - accuracy: 0.5684 - val_loss: 0.5532 - val_accuracy: 0.6030\n",
      "Epoch 14/100\n",
      "827/827 [==============================] - 80s 96ms/step - loss: 0.8135 - accuracy: 0.5745 - val_loss: 0.8863 - val_accuracy: 0.6063\n",
      "Epoch 15/100\n",
      "827/827 [==============================] - 80s 97ms/step - loss: 0.8224 - accuracy: 0.5693 - val_loss: 0.7416 - val_accuracy: 0.6060\n",
      "Epoch 16/100\n",
      "827/827 [==============================] - 80s 97ms/step - loss: 0.8089 - accuracy: 0.5740 - val_loss: 0.5326 - val_accuracy: 0.6044\n",
      "Epoch 17/100\n",
      "827/827 [==============================] - 80s 97ms/step - loss: 0.8003 - accuracy: 0.5826 - val_loss: 0.5131 - val_accuracy: 0.6098\n",
      "Epoch 18/100\n",
      "827/827 [==============================] - 80s 97ms/step - loss: 0.8163 - accuracy: 0.5736 - val_loss: 0.5148 - val_accuracy: 0.6081\n",
      "Epoch 19/100\n",
      "827/827 [==============================] - 80s 97ms/step - loss: 0.8063 - accuracy: 0.5823 - val_loss: 0.5981 - val_accuracy: 0.6095\n",
      "Epoch 20/100\n",
      "826/827 [============================>.] - ETA: 0s - loss: 0.8154 - accuracy: 0.5734 ETA: 0s - loss: 0.8150 - accuracyEpoch 20/100\n",
      "827/827 [==============================] - 80s 97ms/step - loss: 0.8154 - accuracy: 0.5734 - val_loss: 0.9965 - val_accuracy: 0.6060\n",
      "Epoch 21/100\n",
      "827/827 [==============================] - 80s 97ms/step - loss: 0.8135 - accuracy: 0.5766 - val_loss: 0.5427 - val_accuracy: 0.6028\n",
      "Epoch 22/100\n",
      "827/827 [==============================] - 80s 97ms/step - loss: 0.8162 - accuracy: 0.5736 - val_loss: 0.8136 - val_accuracy: 0.6102\n",
      "Epoch 23/100\n",
      "827/827 [==============================] - 80s 97ms/step - loss: 0.8226 - accuracy: 0.5719 - val_loss: 0.6144 - val_accuracy: 0.6076\n",
      "Epoch 24/100\n",
      "827/827 [==============================] - 80s 97ms/step - loss: 0.8040 - accuracy: 0.5851 - val_loss: 0.5134 - val_accuracy: 0.6090\n",
      "Epoch 25/100\n",
      "827/827 [==============================] - 80s 97ms/step - loss: 0.8216 - accuracy: 0.5786 - val_loss: 0.8457 - val_accuracy: 0.6126\n",
      "Epoch 26/100\n",
      "827/827 [==============================] - 80s 97ms/step - loss: 0.8052 - accuracy: 0.5741 - val_loss: 0.5105 - val_accuracy: 0.6086\n",
      "Epoch 27/100\n",
      "827/827 [==============================] - 80s 97ms/step - loss: 0.7983 - accuracy: 0.5822 - val_loss: 0.3199 - val_accuracy: 0.6036\n",
      "Epoch 28/100\n",
      "827/827 [==============================] - 80s 96ms/step - loss: 0.7978 - accuracy: 0.5822 - val_loss: 0.6664 - val_accuracy: 0.6132\n",
      "Epoch 29/100\n",
      "827/827 [==============================] - 80s 97ms/step - loss: 0.8110 - accuracy: 0.5758 - val_loss: 0.4914 - val_accuracy: 0.6063\n",
      "Epoch 30/100\n",
      "827/827 [==============================] - 80s 97ms/step - loss: 0.8040 - accuracy: 0.5798 - val_loss: 0.6908 - val_accuracy: 0.6094\n",
      "Epoch 31/100\n",
      "827/827 [==============================] - 80s 97ms/step - loss: 0.8012 - accuracy: 0.5773 - val_loss: 0.5408 - val_accuracy: 0.6116\n",
      "Epoch 32/100\n",
      "826/827 [============================>.] - ETA: 0s - loss: 0.8153 - accuracy: 0.5734 ETA: 0s - loss: 0.8152 - accuracyEpoch 32/100\n",
      "827/827 [==============================] - 80s 97ms/step - loss: 0.8150 - accuracy: 0.5736 - val_loss: 0.8655 - val_accuracy: 0.6054\n",
      "Epoch 33/100\n",
      "826/827 [============================>.] - ETA: 0s - loss: 0.8126 - accuracy: 0.5752Epoch 33/100\n",
      "827/827 [==============================] - 80s 97ms/step - loss: 0.8127 - accuracy: 0.5752 - val_loss: 0.7265 - val_accuracy: 0.6076\n",
      "Epoch 34/100\n",
      "827/827 [==============================] - 80s 97ms/step - loss: 0.7978 - accuracy: 0.5871 - val_loss: 1.5479 - val_accuracy: 0.6051\n",
      "Epoch 35/100\n",
      "827/827 [==============================] - 80s 97ms/step - loss: 0.8177 - accuracy: 0.5736 - val_loss: 0.7333 - val_accuracy: 0.6108\n",
      "\n",
      "Epoch 36/100\n",
      "827/827 [==============================] - 80s 97ms/step - loss: 0.7997 - accuracy: 0.5832 - val_loss: 1.0923 - val_accuracy: 0.6055\n",
      "\n",
      "Epoch 37/100\n",
      "826/827 [============================>.] - ETA: 0s - loss: 0.8199 - accuracy: 0.5715Epoch 37/100\n",
      "827/827 [==============================] - 80s 97ms/step - loss: 0.8199 - accuracy: 0.5712 - val_loss: 0.6160 - val_accuracy: 0.6098\n",
      "Epoch 38/100\n",
      "827/827 [==============================] - 80s 97ms/step - loss: 0.7980 - accuracy: 0.5838 - val_loss: 0.5385 - val_accuracy: 0.6113\n",
      "Epoch 39/100\n",
      "827/827 [==============================] - 80s 97ms/step - loss: 0.8036 - accuracy: 0.5827 - val_loss: 1.0957 - val_accuracy: 0.6068\n",
      "Epoch 40/100\n",
      "827/827 [==============================] - 80s 97ms/step - loss: 0.7999 - accuracy: 0.5801 - val_loss: 0.7225 - val_accuracy: 0.6087\n",
      "Epoch 41/100\n",
      "827/827 [==============================] - 80s 97ms/step - loss: 0.8029 - accuracy: 0.5807 - val_loss: 0.5850 - val_accuracy: 0.6100\n",
      "Epoch 42/100\n",
      "827/827 [==============================] - 80s 97ms/step - loss: 0.8055 - accuracy: 0.5746 - val_loss: 0.5935 - val_accuracy: 0.6049\n",
      "Epoch 43/100\n",
      "826/827 [============================>.] - ETA: 0s - loss: 0.8191 - accuracy: 0.56Epoch 43/100\n",
      "827/827 [==============================] - 80s 97ms/step - loss: 0.8191 - accuracy: 0.5677 - val_loss: 0.4843 - val_accuracy: 0.6113\n",
      "Epoch 44/100\n",
      "827/827 [==============================] - 80s 97ms/step - loss: 0.8052 - accuracy: 0.5797 - val_loss: 0.5280 - val_accuracy: 0.6078\n",
      "Epoch 45/100\n",
      "827/827 [==============================] - 80s 97ms/step - loss: 0.8022 - accuracy: 0.5816 - val_loss: 0.8032 - val_accuracy: 0.6079\n",
      "Epoch 46/100\n",
      "826/827 [============================>.] - ETA: 0s - loss: 0.8031 - accuracy: 0.5773Epoch 46/100\n",
      "827/827 [==============================] - 80s 97ms/step - loss: 0.8031 - accuracy: 0.5771 - val_loss: 0.5894 - val_accuracy: 0.6106\n",
      "Epoch 47/100\n",
      "827/827 [==============================] - 80s 97ms/step - loss: 0.8142 - accuracy: 0.5784 - val_loss: 0.6269 - val_accuracy: 0.6092\n",
      "Epoch 48/100\n",
      "827/827 [==============================] - 80s 97ms/step - loss: 0.8037 - accuracy: 0.5786 - val_loss: 0.9831 - val_accuracy: 0.6052\n",
      "Epoch 49/100\n",
      "827/827 [==============================] - 80s 97ms/step - loss: 0.8135 - accuracy: 0.5716 - val_loss: 0.8765 - val_accuracy: 0.6083\n",
      "Epoch 50/100\n",
      "827/827 [==============================] - 80s 97ms/step - loss: 0.8008 - accuracy: 0.5807 - val_loss: 0.3054 - val_accuracy: 0.6073\n",
      "Epoch 51/100\n",
      "827/827 [==============================] - 80s 97ms/step - loss: 0.8007 - accuracy: 0.5800 - val_loss: 0.5674 - val_accuracy: 0.6102\n",
      "Epoch 52/100\n",
      "827/827 [==============================] - 80s 97ms/step - loss: 0.8058 - accuracy: 0.5773 - val_loss: 0.6163 - val_accuracy: 0.6036\n",
      "Epoch 53/100\n",
      "827/827 [==============================] - 80s 97ms/step - loss: 0.8020 - accuracy: 0.5843 - val_loss: 0.6269 - val_accuracy: 0.6102\n",
      "Epoch 54/100\n",
      "826/827 [============================>.] - ETA: 0s - loss: 0.7957 - accuracy: 0.5829Epoch 54/100\n",
      "827/827 [==============================] - 80s 97ms/step - loss: 0.7959 - accuracy: 0.5826 - val_loss: 0.4671 - val_accuracy: 0.6065\n",
      "Epoch 55/100\n",
      "827/827 [==============================] - 80s 97ms/step - loss: 0.8163 - accuracy: 0.5754 - val_loss: 0.3849 - val_accuracy: 0.6122\n",
      "Epoch 56/100\n",
      "827/827 [==============================] - 80s 97ms/step - loss: 0.7935 - accuracy: 0.5837 - val_loss: 0.3464 - val_accuracy: 0.6111\n",
      "Epoch 57/100\n",
      "827/827 [==============================] - 80s 97ms/step - loss: 0.7951 - accuracy: 0.5825 - val_loss: 0.9740 - val_accuracy: 0.6068\n",
      "Epoch 58/100\n",
      "827/827 [==============================] - 80s 97ms/step - loss: 0.8113 - accuracy: 0.5730 - val_loss: 0.4862 - val_accuracy: 0.6078\n",
      "Epoch 59/100\n",
      "827/827 [==============================] - 80s 97ms/step - loss: 0.8034 - accuracy: 0.5851 - val_loss: 1.1674 - val_accuracy: 0.6121\n",
      "Epoch 60/100\n",
      "827/827 [==============================] - 80s 97ms/step - loss: 0.8113 - accuracy: 0.5749 - val_loss: 0.6035 - val_accuracy: 0.6081\n",
      "Epoch 61/100\n",
      "827/827 [==============================] - 80s 97ms/step - loss: 0.8080 - accuracy: 0.5779 - val_loss: 0.7881 - val_accuracy: 0.6054\n",
      "Epoch 62/100\n",
      "827/827 [==============================] - 80s 97ms/step - loss: 0.8085 - accuracy: 0.5801 - val_loss: 0.6007 - val_accuracy: 0.6130\n",
      "Epoch 63/100\n",
      "  1/827 [..............................] - ETA: 55s - loss: 0.6592 - accuracy: 0.5625Epoch 62/100\n",
      "827/827 [==============================] - 80s 97ms/step - loss: 0.8166 - accuracy: 0.5745 - val_loss: 0.7845 - val_accuracy: 0.6079\n",
      "Epoch 64/100\n",
      "826/827 [============================>.] - ETA: 0s - loss: 0.7989 - accuracy: 0.5845Epoch 64/100\n",
      "827/827 [==============================] - 80s 97ms/step - loss: 0.7993 - accuracy: 0.5845 - val_loss: 0.8138 - val_accuracy: 0.6097\n",
      "Epoch 65/100\n",
      "827/827 [==============================] - 80s 97ms/step - loss: 0.8085 - accuracy: 0.5787 - val_loss: 0.8409 - val_accuracy: 0.6153\n",
      "Epoch 66/100\n",
      "827/827 [==============================] - 80s 97ms/step - loss: 0.8086 - accuracy: 0.5814 - val_loss: 0.4878 - val_accuracy: 0.6116\n",
      "Epoch 67/100\n",
      "826/827 [============================>.] - ETA: 0s - loss: 0.8111 - accuracy: 0.5780Epoch 67/100\n",
      "827/827 [==============================] - 80s 97ms/step - loss: 0.8112 - accuracy: 0.5780 - val_loss: 0.5432 - val_accuracy: 0.6111\n",
      "Epoch 68/100\n",
      "827/827 [==============================] - 80s 97ms/step - loss: 0.8079 - accuracy: 0.5761 - val_loss: 0.3047 - val_accuracy: 0.6068\n",
      "Epoch 69/100\n",
      "827/827 [==============================] - 80s 96ms/step - loss: 0.8079 - accuracy: 0.5759 - val_loss: 0.4664 - val_accuracy: 0.6141\n",
      "Epoch 70/100\n",
      "827/827 [==============================] - 80s 97ms/step - loss: 0.8027 - accuracy: 0.5811 - val_loss: 1.0359 - val_accuracy: 0.6067\n",
      "Epoch 71/100\n",
      "  1/827 [..............................] - ETA: 1:15 - loss: 0.4590 - accuracy: 0.8125Epoch 70/100\n",
      "827/827 [==============================] - 80s 97ms/step - loss: 0.7858 - accuracy: 0.5922 - val_loss: 0.3057 - val_accuracy: 0.6153\n",
      "Epoch 72/100\n",
      "827/827 [==============================] - 80s 97ms/step - loss: 0.8097 - accuracy: 0.5739 - val_loss: 0.3903 - val_accuracy: 0.6126\n",
      "Epoch 73/100\n",
      "827/827 [==============================] - 80s 97ms/step - loss: 0.7991 - accuracy: 0.5825 - val_loss: 0.7768 - val_accuracy: 0.6098\n",
      "Epoch 74/100\n",
      "827/827 [==============================] - 80s 97ms/step - loss: 0.8164 - accuracy: 0.5745 - val_loss: 0.4318 - val_accuracy: 0.6071\n",
      "Epoch 75/100\n",
      "827/827 [==============================] - 80s 97ms/step - loss: 0.7952 - accuracy: 0.5830 - val_loss: 0.5840 - val_accuracy: 0.6076\n",
      "Epoch 76/100\n",
      "827/827 [==============================] - 80s 97ms/step - loss: 0.8011 - accuracy: 0.5775 - val_loss: 0.4752 - val_accuracy: 0.6095\n",
      "Epoch 77/100\n",
      "827/827 [==============================] - 80s 97ms/step - loss: 0.8087 - accuracy: 0.5781 - val_loss: 1.0117 - val_accuracy: 0.6100\n",
      "Epoch 78/100\n",
      "827/827 [==============================] - 80s 97ms/step - loss: 0.8083 - accuracy: 0.5783 - val_loss: 0.6716 - val_accuracy: 0.6114\n",
      "Epoch 79/100\n",
      "  1/827 [..............................] - ETA: 1:15 - loss: 1.0059 - accuracy: 0.5000Epoch 78/100\n",
      "827/827 [==============================] - 81s 97ms/step - loss: 0.8073 - accuracy: 0.5828 - val_loss: 0.8635 - val_accuracy: 0.6055\n",
      "Epoch 80/100\n",
      "827/827 [==============================] - 80s 97ms/step - loss: 0.8060 - accuracy: 0.5784 - val_loss: 0.6792 - val_accuracy: 0.6116\n",
      "Epoch 81/100\n",
      "827/827 [==============================] - 80s 97ms/step - loss: 0.8104 - accuracy: 0.5753 - val_loss: 0.4478 - val_accuracy: 0.6116\n",
      "Epoch 82/100\n",
      "826/827 [============================>.] - ETA: 0s - loss: 0.8053 - accuracy: 0.5762Epoch 82/100\n",
      "827/827 [==============================] - 80s 97ms/step - loss: 0.8051 - accuracy: 0.5762 - val_loss: 0.9259 - val_accuracy: 0.6127\n",
      "Epoch 83/100\n",
      "827/827 [==============================] - 80s 97ms/step - loss: 0.8054 - accuracy: 0.5799 - val_loss: 0.4999 - val_accuracy: 0.6121\n",
      "Epoch 84/100\n",
      "  1/827 [..............................] - ETA: 1:17 - loss: 0.7568 - accuracy: 0.6250Epoch 83/100\n",
      "827/827 [==============================] - 80s 97ms/step - loss: 0.8055 - accuracy: 0.5786 - val_loss: 0.6554 - val_accuracy: 0.6138\n",
      "Epoch 85/100\n",
      "827/827 [==============================] - 80s 97ms/step - loss: 0.8055 - accuracy: 0.5857 - val_loss: 0.4326 - val_accuracy: 0.6119\n",
      "Epoch 86/100\n",
      "827/827 [==============================] - 80s 97ms/step - loss: 0.8041 - accuracy: 0.5754 - val_loss: 0.5209 - val_accuracy: 0.6076\n",
      "Epoch 87/100\n",
      "826/827 [============================>.] - ETA: 0s - loss: 0.7978 - accuracy: 0.5793Epoch 87/100\n",
      "827/827 [==============================] - 80s 97ms/step - loss: 0.7978 - accuracy: 0.5792 - val_loss: 0.8231 - val_accuracy: 0.6073\n",
      "Epoch 88/100\n",
      "827/827 [==============================] - 80s 97ms/step - loss: 0.7949 - accuracy: 0.5855 - val_loss: 0.5657 - val_accuracy: 0.6126\n",
      "Epoch 89/100\n",
      "827/827 [==============================] - 80s 97ms/step - loss: 0.7999 - accuracy: 0.5811 - val_loss: 0.7016 - val_accuracy: 0.6097\n",
      "Epoch 90/100\n",
      "827/827 [==============================] - 80s 97ms/step - loss: 0.8101 - accuracy: 0.5818 - val_loss: 0.8496 - val_accuracy: 0.6132\n",
      "Epoch 91/100\n",
      "827/827 [==============================] - 80s 97ms/step - loss: 0.8109 - accuracy: 0.5765 - val_loss: 0.6320 - val_accuracy: 0.6135\n",
      "Epoch 92/100\n",
      "827/827 [==============================] - 80s 97ms/step - loss: 0.8001 - accuracy: 0.5755 - val_loss: 0.3882 - val_accuracy: 0.6084\n",
      "Epoch 93/100\n",
      "826/827 [============================>.] - ETA: 0s - loss: 0.7955 - accuracy: 0.5827Epoch 93/100\n",
      "827/827 [==============================] - 80s 97ms/step - loss: 0.7956 - accuracy: 0.5827 - val_loss: 0.8647 - val_accuracy: 0.6121\n",
      "Epoch 94/100\n",
      "827/827 [==============================] - 80s 97ms/step - loss: 0.8134 - accuracy: 0.5725 - val_loss: 0.4789 - val_accuracy: 0.6135\n",
      "Epoch 95/100\n",
      "827/827 [==============================] - 80s 97ms/step - loss: 0.8064 - accuracy: 0.5777 - val_loss: 0.4783 - val_accuracy: 0.6046\n",
      "Epoch 96/100\n",
      "827/827 [==============================] - 80s 97ms/step - loss: 0.8001 - accuracy: 0.5831 - val_loss: 0.6823 - val_accuracy: 0.6095\n",
      "Epoch 97/100\n",
      "826/827 [============================>.] - ETA: 0s - loss: 0.8039 - accuracy: 0.5830Epoch 97/100\n",
      "827/827 [==============================] - 80s 97ms/step - loss: 0.8041 - accuracy: 0.5829 - val_loss: 0.4899 - val_accuracy: 0.6057\n",
      "Epoch 98/100\n",
      "826/827 [============================>.] - ETA: 0s - loss: 0.7919 - accuracy: 0.5818Epoch 98/100\n",
      "827/827 [==============================] - 80s 97ms/step - loss: 0.7916 - accuracy: 0.5820 - val_loss: 0.8224 - val_accuracy: 0.6089\n",
      "Epoch 99/100\n",
      "827/827 [==============================] - 80s 97ms/step - loss: 0.8004 - accuracy: 0.5796 - val_loss: 0.9682 - val_accuracy: 0.6065\n",
      "Epoch 100/100\n",
      "827/827 [==============================] - 80s 97ms/step - loss: 0.7961 - accuracy: 0.5843 - val_loss: 0.5472 - val_accuracy: 0.6043\n",
      "Epoch 100/100\n"
     ]
    }
   ],
   "source": [
    "train_metrics = model.fit_generator(\n",
    "    train_generator,\n",
    "    epochs = 100,\n",
    "    validation_data = validation_generator,\n",
    "    verbose=1,\n",
    "    use_multiprocessing=True,\n",
    "    workers=8,\n",
    "    callbacks = my_callbacks\n",
    ")"
   ]
  },
  {
   "cell_type": "code",
   "execution_count": 9,
   "metadata": {},
   "outputs": [
    {
     "data": {
      "image/png": "[encoded data removed]",
      "text/plain": [
       "<Figure size 432x288 with 1 Axes>"
      ]
     },
     "metadata": {
      "needs_background": "light"
     },
     "output_type": "display_data"
    },
    {
     "data": {
      "image/png": "[encoded data removed]",
      "text/plain": [
       "<Figure size 432x288 with 1 Axes>"
      ]
     },
     "metadata": {
      "needs_background": "light"
     },
     "output_type": "display_data"
    }
   ],
   "source": [
    "import matplotlib.pyplot as plt\n",
    "\n",
    "acc = train_metrics.history['accuracy']\n",
    "val_acc = train_metrics.history['val_accuracy']\n",
    "loss = train_metrics.history['loss']\n",
    "val_loss = train_metrics.history['val_loss']\n",
    "\n",
    "epochs = range(1,len(acc) + 1)\n",
    "\n",
    "plt.plot(epochs,acc,'bo',label = 'Training Accuracy')\n",
    "plt.plot(epochs,val_acc,'b',label = 'Validation Accuracy')\n",
    "plt.title('Training and Validation Accuracy')\n",
    "plt.legend()\n",
    "plt.figure()\n",
    "\n",
    "plt.plot(epochs,loss,'bo',label = 'Training loss')\n",
    "plt.plot(epochs,val_loss,'b',label = 'Validation Loss')\n",
    "plt.title('Training and Validation Loss')\n",
    "plt.legend()\n",
    "\n",
    "plt.show()"
   ]
  },
  {
   "cell_type": "code",
   "execution_count": 12,
   "metadata": {},
   "outputs": [],
   "source": [
    "#model.save_weights('modelhow m.h5') "
   ]
  },
  {
   "cell_type": "code",
   "execution_count": null,
   "metadata": {},
   "outputs": [],
   "source": []
  }
 ],
 "metadata": {
  "kernelspec": {
   "display_name": "Python 3",
   "language": "python",
   "name": "python3"
  },
  "language_info": {
   "codemirror_mode": {
    "name": "ipython",
    "version": 3
   },
   "file_extension": ".py",
   "mimetype": "text/x-python",
   "name": "python",
   "nbconvert_exporter": "python",
   "pygments_lexer": "ipython3",
   "version": "3.6.9"
  }
 },
 "nbformat": 4,
 "nbformat_minor": 4
}
