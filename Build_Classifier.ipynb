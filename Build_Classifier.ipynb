{
 "cells": [
  {
   "cell_type": "markdown",
   "metadata": {},
   "source": [
    "This notebook uses the images of the extracted faces from the real/fake videos in a folder layout:\n",
    "\n",
    "Images/\n",
    "    Train/\n",
    "        Real/\n",
    "        Fake/\n",
    "    Val/\n",
    "        Real/\n",
    "        Fake/\n",
    "\n",
    "I used EfficientNet (B3) [1] with pre-trained imagenet weights as the baseline model. EfficientNet can be installed via \"pip install -U efficientnet\". I chose this model for the baseline due to its efficiency in managing the size of the overall network and performance. The layers from the efficient net were frozen and new trainable layers were added for fine-tuning. There is scope for unfreezing some pre-trained layers for better performance. \n",
    "\n",
    "The data generators used a rescale function of 1./255 as a form of normalising the pixel values. Zoom, shear, and horizontal flips were added transforms as it is common for a wide range of videos to contain faces of varying distances / shear / and orientations from/to the camera. There is scope for these transforms to be fine-tuned for better performance. \n",
    "\n",
    "[1] Tan, Mingxing, and Quoc V. Le. \"Efficientnet: Rethinking model scaling for convolutional neural networks.\" arXiv preprint arXiv:1905.11946 (2019)."
   ]
  },
  {
   "cell_type": "code",
   "execution_count": 2,
   "metadata": {
    "collapsed": true
   },
   "outputs": [
    {
     "data": {
      "text/plain": [
       "'\\n#Jupyter notebooks create hidden checkpoint folders which may skew the number of classes \\n#detected by the data generators. In this event, use the following code to delete the hidden folders.\\n\\nimport shutil\\nshutil.rmtree(\"Images/Train/.ipynb_checkpoints\")\\nshutil.rmtree(\"Images/Val/.ipynb_checkpoints\")\\n'"
      ]
     },
     "execution_count": 2,
     "metadata": {},
     "output_type": "execute_result"
    }
   ],
   "source": [
    "'''\n",
    "#Jupyter notebooks create hidden checkpoint folders which may skew the number of classes \n",
    "#detected by the data generators. In this event, use the following code to delete the hidden folders.\n",
    "\n",
    "import shutil\n",
    "shutil.rmtree(\"Images/Train/.ipynb_checkpoints\")\n",
    "shutil.rmtree(\"Images/Val/.ipynb_checkpoints\")\n",
    "'''"
   ]
  },
  {
   "cell_type": "code",
   "execution_count": 3,
   "metadata": {},
   "outputs": [
    {
     "name": "stderr",
     "output_type": "stream",
     "text": [
      "Using TensorFlow backend.\n"
     ]
    }
   ],
   "source": [
    "from keras import applications\n",
    "from efficientnet.keras import EfficientNetB5\n",
    "from keras import callbacks\n",
    "from keras.models import Sequential\n",
    "from keras.preprocessing.image import ImageDataGenerator\n",
    "\n",
    "from efficientnet.keras import center_crop_and_resize, preprocess_input\n",
    "from keras import models, layers, optimizers\n",
    "import keras"
   ]
  },
  {
   "cell_type": "code",
   "execution_count": 4,
   "metadata": {},
   "outputs": [
    {
     "name": "stdout",
     "output_type": "stream",
     "text": [
      "Found 7911 images belonging to 2 classes.\n",
      "Found 4719 images belonging to 2 classes.\n"
     ]
    }
   ],
   "source": [
    "img_size = 224\n",
    "input_shape = (img_size, img_size, 3)\n",
    "batch_size = 16\n",
    "num_train = 7911\n",
    "num_val = 4719\n",
    "class_mode = 'binary'\n",
    "train_dir = 'Images/Train'\n",
    "val_dir = 'Images/Val'\n",
    "\n",
    "train_datagen = ImageDataGenerator( \n",
    "                rescale = 1. / 255, \n",
    "            horizontal_flip = True,\n",
    "                rotation_range=0.2,\n",
    "            brightness_range=(-0.2,0.2),\n",
    "                fill_mode='nearest') \n",
    "  \n",
    "test_datagen = ImageDataGenerator(rescale = 1. / 255) \n",
    "  \n",
    "train_generator = train_datagen.flow_from_directory(\n",
    "                                            train_dir, \n",
    "                    target_size =(img_size, img_size), \n",
    "                                batch_size = batch_size, \n",
    "                                class_mode = class_mode) \n",
    "  \n",
    "validation_generator = test_datagen.flow_from_directory( \n",
    "                                                val_dir, \n",
    "                        target_size =(img_size, img_size), \n",
    "                                    batch_size = batch_size, \n",
    "                                    class_mode =class_mode) "
   ]
  },
  {
   "cell_type": "code",
   "execution_count": 5,
   "metadata": {
    "collapsed": true
   },
   "outputs": [
    {
     "name": "stdout",
     "output_type": "stream",
     "text": [
      "WARNING:tensorflow:From /usr/lib/python3/dist-packages/tensorflow_core/python/ops/resource_variable_ops.py:1630: calling BaseResourceVariable.__init__ (from tensorflow.python.ops.resource_variable_ops) with constraint is deprecated and will be removed in a future version.\n",
      "Instructions for updating:\n",
      "If using Keras pass *_constraint arguments to layers.\n"
     ]
    }
   ],
   "source": [
    "#Use transfer learning for the first set of layers\n",
    "#Include pre-trained imagenet weights\n",
    "eff_net = EfficientNetB5(\n",
    "        weights='imagenet',\n",
    "    input_shape=input_shape,\n",
    "            include_top=False,\n",
    "    classes=1\n",
    ")"
   ]
  },
  {
   "cell_type": "code",
   "execution_count": 6,
   "metadata": {},
   "outputs": [
    {
     "name": "stdout",
     "output_type": "stream",
     "text": [
      "Model: \"sequential_1\"\n",
      "_________________________________________________________________\n",
      "Layer (type)                 Output Shape              Param #   \n",
      "=================================================================\n",
      "efficientnet-b5 (Model)      (None, 7, 7, 2048)        28513520  \n",
      "_________________________________________________________________\n",
      "flatten_1 (Flatten)          (None, 100352)            0         \n",
      "_________________________________________________________________\n",
      "batch_normalization_1 (Batch (None, 100352)            401408    \n",
      "_________________________________________________________________\n",
      "dropout_1 (Dropout)          (None, 100352)            0         \n",
      "_________________________________________________________________\n",
      "dense_1 (Dense)              (None, 256)               25690368  \n",
      "_________________________________________________________________\n",
      "batch_normalization_2 (Batch (None, 256)               1024      \n",
      "_________________________________________________________________\n",
      "dropout_2 (Dropout)          (None, 256)               0         \n",
      "_________________________________________________________________\n",
      "dense_2 (Dense)              (None, 1)                 257       \n",
      "=================================================================\n",
      "Total params: 54,606,577\n",
      "Trainable params: 54,232,625\n",
      "Non-trainable params: 373,952\n",
      "_________________________________________________________________\n"
     ]
    }
   ],
   "source": [
    "model = Sequential()\n",
    "model.add(eff_net)\n",
    "\n",
    "model.add(layers.Flatten())\n",
    "model.add(layers.BatchNormalization())\n",
    "model.add(layers.Dropout(0.5))\n",
    "model.add(layers.Dense(256, activation='relu'))\n",
    "model.add(layers.BatchNormalization())\n",
    "model.add(layers.Dropout(0.4))\n",
    "model.add(layers.Dense(1, activation='sigmoid'))\n",
    "model.summary()"
   ]
  },
  {
   "cell_type": "code",
   "execution_count": 7,
   "metadata": {},
   "outputs": [
    {
     "name": "stdout",
     "output_type": "stream",
     "text": [
      "This is the number of trainable layers before freezing eff_net base: 512\n",
      "This is the number of trainable layers after freezing the eff_net base: 8\n"
     ]
    }
   ],
   "source": [
    "print('This is the number of trainable layers '\n",
    "      'before freezing eff_net base:', len(model.trainable_weights))\n",
    "\n",
    "#Freeze the pretrained layers\n",
    "eff_net.trainable = False\n",
    "\n",
    "print('This is the number of trainable layers '\n",
    "      'after freezing the eff_net base:', len(model.trainable_weights))"
   ]
  },
  {
   "cell_type": "code",
   "execution_count": 8,
   "metadata": {},
   "outputs": [],
   "source": [
    "check_point = keras.callbacks.ModelCheckpoint(\n",
    "    filepath='model_saved.h5',\n",
    "    save_weights_only=True,\n",
    "    monitor='val_accuracy',\n",
    "    mode='max',\n",
    "    save_best_only=True)\n",
    "\n",
    "reduce_lr = keras.callbacks.ReduceLROnPlateau(monitor='val_loss', factor=0.1)\n",
    "\n",
    "early_stop = keras.callbacks.EarlyStopping(monitor='val_loss', patience=3)\n",
    "\n",
    "my_callbacks = [\n",
    "    check_point,\n",
    "    reduce_lr\n",
    "]"
   ]
  },
  {
   "cell_type": "code",
   "execution_count": 9,
   "metadata": {
    "collapsed": true
   },
   "outputs": [
    {
     "name": "stdout",
     "output_type": "stream",
     "text": [
      "WARNING:tensorflow:From /usr/lib/python3/dist-packages/tensorflow_core/python/ops/nn_impl.py:183: where (from tensorflow.python.ops.array_ops) is deprecated and will be removed in a future version.\n",
      "Instructions for updating:\n",
      "Use tf.where in 2.0, which has the same broadcast rule as np.where\n"
     ]
    }
   ],
   "source": [
    "model.compile(\n",
    "            loss='binary_crossentropy',\n",
    "        optimizer=optimizers.Adam(lr=1e-6),\n",
    "                          metrics=['accuracy'])"
   ]
  },
  {
   "cell_type": "code",
   "execution_count": 10,
   "metadata": {},
   "outputs": [
    {
     "name": "stdout",
     "output_type": "stream",
     "text": [
      "WARNING:tensorflow:From /usr/lib/python3/dist-packages/keras/backend/tensorflow_backend.py:422: The name tf.global_variables is deprecated. Please use tf.compat.v1.global_variables instead.\n",
      "\n",
      "Epoch 1/100\n",
      "495/495 [==============================] - 54s 109ms/step - loss: 1.0061 - accuracy: 0.4992 - val_loss: 0.7404 - val_accuracy: 0.5005\n",
      "Epoch 2/100\n",
      "495/495 [==============================] - 49s 99ms/step - loss: 0.9491 - accuracy: 0.5251 - val_loss: 0.5222 - val_accuracy: 0.4976\n",
      "Epoch 3/100\n",
      "495/495 [==============================] - 49s 99ms/step - loss: 0.9176 - accuracy: 0.5290 - val_loss: 0.7242 - val_accuracy: 0.5077\n",
      "Epoch 4/100\n",
      "495/495 [==============================] - 49s 100ms/step - loss: 0.9339 - accuracy: 0.5291 - val_loss: 0.6618 - val_accuracy: 0.5393\n",
      "Epoch 5/100\n",
      "495/495 [==============================] - 49s 99ms/step - loss: 0.9130 - accuracy: 0.5386 - val_loss: 0.8903 - val_accuracy: 0.5349\n",
      "Epoch 6/100\n",
      "495/495 [==============================] - 49s 98ms/step - loss: 0.8738 - accuracy: 0.5501 - val_loss: 1.2560 - val_accuracy: 0.5546\n",
      "Epoch 7/100\n",
      "495/495 [==============================] - 49s 99ms/step - loss: 0.8755 - accuracy: 0.5521 - val_loss: 0.6698 - val_accuracy: 0.5353\n",
      "Epoch 8/100\n",
      "495/495 [==============================] - 48s 98ms/step - loss: 0.8617 - accuracy: 0.5557 - val_loss: 1.1126 - val_accuracy: 0.5315\n",
      "Epoch 9/100\n",
      "495/495 [==============================] - 48s 98ms/step - loss: 0.8589 - accuracy: 0.5514 - val_loss: 0.9265 - val_accuracy: 0.5643\n",
      "Epoch 10/100\n",
      "495/495 [==============================] - 48s 98ms/step - loss: 0.8534 - accuracy: 0.5611 - val_loss: 0.8100 - val_accuracy: 0.5700\n",
      "Epoch 11/100\n",
      "495/495 [==============================] - 48s 98ms/step - loss: 0.8404 - accuracy: 0.5714 - val_loss: 0.6434 - val_accuracy: 0.5654\n",
      "Epoch 12/100\n",
      "495/495 [==============================] - 48s 98ms/step - loss: 0.8333 - accuracy: 0.5712 - val_loss: 0.7057 - val_accuracy: 0.5681\n",
      "Epoch 13/100\n",
      "495/495 [==============================] - 48s 98ms/step - loss: 0.8290 - accuracy: 0.5743 - val_loss: 0.5616 - val_accuracy: 0.5586\n",
      "Epoch 14/100\n",
      "495/495 [==============================] - 48s 97ms/step - loss: 0.8185 - accuracy: 0.5816 - val_loss: 0.6534 - val_accuracy: 0.5630\n",
      "Epoch 15/100\n",
      "495/495 [==============================] - 49s 98ms/step - loss: 0.8085 - accuracy: 0.5869 - val_loss: 0.8841 - val_accuracy: 0.5641\n",
      "Epoch 15/100\n",
      "Epoch 16/100\n",
      "494/495 [============================>.] - ETA: 0s - loss: 0.8305 - accuracy: 0.5663Epoch 16/100\n",
      "495/495 [==============================] - 48s 97ms/step - loss: 0.8310 - accuracy: 0.5657 - val_loss: 0.8298 - val_accuracy: 0.5686\n",
      "Epoch 17/100\n",
      "494/495 [============================>.] - ETA: 0s - loss: 0.8261 - accuracy: 0.5728Epoch 17/100\n",
      "495/495 [==============================] - 49s 98ms/step - loss: 0.8258 - accuracy: 0.5729 - val_loss: 0.8641 - val_accuracy: 0.5645\n",
      "Epoch 18/100\n",
      "495/495 [==============================] - 48s 98ms/step - loss: 0.7974 - accuracy: 0.5851 - val_loss: 0.9736 - val_accuracy: 0.5650\n",
      "Epoch 19/100\n",
      "494/495 [============================>.] - ETA: 0s - loss: 0.8230 - accuracy: 0.5709Epoch 19/100\n",
      "495/495 [==============================] - 49s 98ms/step - loss: 0.8234 - accuracy: 0.5705 - val_loss: 0.7037 - val_accuracy: 0.5666\n",
      "Epoch 20/100\n",
      "495/495 [==============================] - 48s 98ms/step - loss: 0.8264 - accuracy: 0.5724 - val_loss: 0.8041 - val_accuracy: 0.5643\n",
      "Epoch 21/100\n",
      "495/495 [==============================] - 48s 98ms/step - loss: 0.8242 - accuracy: 0.5727 - val_loss: 0.5560 - val_accuracy: 0.5609\n",
      "Epoch 22/100\n",
      "495/495 [==============================] - 48s 98ms/step - loss: 0.8065 - accuracy: 0.5800 - val_loss: 0.9712 - val_accuracy: 0.5624\n",
      "Epoch 23/100\n",
      "495/495 [==============================] - 48s 97ms/step - loss: 0.7984 - accuracy: 0.5853 - val_loss: 0.7746 - val_accuracy: 0.5524\n",
      "Epoch 24/100\n",
      "494/495 [============================>.] - ETA: 0s - loss: 0.8058 - accuracy: 0.5877Epoch 24/100\n",
      "495/495 [==============================] - 48s 98ms/step - loss: 0.8059 - accuracy: 0.5877 - val_loss: 0.8316 - val_accuracy: 0.5597\n",
      "Epoch 25/100\n",
      "495/495 [==============================] - 48s 98ms/step - loss: 0.8259 - accuracy: 0.5695 - val_loss: 0.5949 - val_accuracy: 0.5577\n",
      "Epoch 25/100\n",
      "Epoch 26/100\n",
      " 27/495 [>.............................] - ETA: 32s - loss: 0.8202 - accuracy: 0.5741"
     ]
    },
    {
     "name": "stderr",
     "output_type": "stream",
     "text": [
      "IOPub message rate exceeded.\n",
      "The notebook server will temporarily stop sending output\n",
      "to the client in order to avoid crashing it.\n",
      "To change this limit, set the config variable\n",
      "`--NotebookApp.iopub_msg_rate_limit`.\n",
      "\n",
      "Current values:\n",
      "NotebookApp.iopub_msg_rate_limit=1000.0 (msgs/sec)\n",
      "NotebookApp.rate_limit_window=3.0 (secs)\n",
      "\n"
     ]
    },
    {
     "name": "stdout",
     "output_type": "stream",
     "text": [
      "495/495 [==============================] - 48s 98ms/step - loss: 0.8203 - accuracy: 0.5710 - val_loss: 0.7269 - val_accuracy: 0.5645\n",
      "Epoch 54/100\n",
      "495/495 [==============================] - 49s 99ms/step - loss: 0.8288 - accuracy: 0.5711 - val_loss: 0.5421 - val_accuracy: 0.5730\n",
      "Epoch 55/100\n",
      "495/495 [==============================] - 48s 98ms/step - loss: 0.8071 - accuracy: 0.5784 - val_loss: 0.6892 - val_accuracy: 0.5618\n",
      "Epoch 56/100\n",
      "495/495 [==============================] - 48s 98ms/step - loss: 0.8103 - accuracy: 0.5796 - val_loss: 0.7455 - val_accuracy: 0.5637\n",
      "Epoch 57/100\n",
      "495/495 [==============================] - 48s 98ms/step - loss: 0.8324 - accuracy: 0.5688 - val_loss: 0.5398 - val_accuracy: 0.5730\n",
      "Epoch 57/100\n",
      "Epoch 58/100\n",
      "494/495 [============================>.] - ETA: 0s - loss: 0.8224 - accuracy: 0.5707Epoch 58/100\n",
      "495/495 [==============================] - 49s 98ms/step - loss: 0.8239 - accuracy: 0.5703 - val_loss: 1.0311 - val_accuracy: 0.5624\n",
      "Epoch 59/100\n",
      "193/495 [==========>...................] - ETA: 18s - loss: 0.8208 - accuracy: 0.5602"
     ]
    },
    {
     "name": "stderr",
     "output_type": "stream",
     "text": [
      "IOPub message rate exceeded.\n",
      "The notebook server will temporarily stop sending output\n",
      "to the client in order to avoid crashing it.\n",
      "To change this limit, set the config variable\n",
      "`--NotebookApp.iopub_msg_rate_limit`.\n",
      "\n",
      "Current values:\n",
      "NotebookApp.iopub_msg_rate_limit=1000.0 (msgs/sec)\n",
      "NotebookApp.rate_limit_window=3.0 (secs)\n",
      "\n"
     ]
    },
    {
     "name": "stdout",
     "output_type": "stream",
     "text": [
      "495/495 [==============================] - 49s 98ms/step - loss: 0.8160 - accuracy: 0.5705 - val_loss: 0.9208 - val_accuracy: 0.5658\n",
      "Epoch 86/100\n",
      "495/495 [==============================] - 48s 97ms/step - loss: 0.8300 - accuracy: 0.5696 - val_loss: 0.7621 - val_accuracy: 0.5650\n",
      "Epoch 87/100\n",
      "495/495 [==============================] - 48s 97ms/step - loss: 0.7894 - accuracy: 0.5874 - val_loss: 0.9189 - val_accuracy: 0.5622\n",
      "Epoch 88/100\n",
      "494/495 [============================>.] - ETA: 0s - loss: 0.7981 - accuracy: 0.5806Epoch 88/100\n",
      "495/495 [==============================] - 49s 98ms/step - loss: 0.7980 - accuracy: 0.5805 - val_loss: 0.9635 - val_accuracy: 0.5605\n",
      "Epoch 89/100\n",
      "495/495 [==============================] - 48s 98ms/step - loss: 0.7938 - accuracy: 0.5912 - val_loss: 0.5728 - val_accuracy: 0.5713\n",
      "Epoch 89/100\n",
      "Epoch 90/100\n",
      "494/495 [============================>.] - ETA: 0s - loss: 0.8377 - accuracy: 0.5625Epoch 90/100\n",
      "495/495 [==============================] - 48s 98ms/step - loss: 0.8377 - accuracy: 0.5626 - val_loss: 0.6157 - val_accuracy: 0.5605\n",
      "Epoch 91/100\n",
      "116/495 [======>.......................] - ETA: 23s - loss: 0.8302 - accuracy: 0.5544"
     ]
    },
    {
     "name": "stderr",
     "output_type": "stream",
     "text": [
      "IOPub message rate exceeded.\n",
      "The notebook server will temporarily stop sending output\n",
      "to the client in order to avoid crashing it.\n",
      "To change this limit, set the config variable\n",
      "`--NotebookApp.iopub_msg_rate_limit`.\n",
      "\n",
      "Current values:\n",
      "NotebookApp.iopub_msg_rate_limit=1000.0 (msgs/sec)\n",
      "NotebookApp.rate_limit_window=3.0 (secs)\n",
      "\n"
     ]
    }
   ],
   "source": [
    "train_metrics = model.fit_generator(\n",
    "    train_generator,\n",
    "    epochs = 100,\n",
    "    validation_data = validation_generator,\n",
    "    verbose=1,\n",
    "    use_multiprocessing=True,\n",
    "    workers=8,\n",
    "    callbacks = my_callbacks\n",
    ")"
   ]
  },
  {
   "cell_type": "code",
   "execution_count": 11,
   "metadata": {},
   "outputs": [
    {
     "data": {
      "image/png": "[encoded data removed]",
      "text/plain": [
       "<Figure size 432x288 with 1 Axes>"
      ]
     },
     "metadata": {
      "needs_background": "light"
     },
     "output_type": "display_data"
    },
    {
     "data": {
      "image/png": "[encoded data removed]",
      "text/plain": [
       "<Figure size 432x288 with 1 Axes>"
      ]
     },
     "metadata": {
      "needs_background": "light"
     },
     "output_type": "display_data"
    }
   ],
   "source": [
    "import matplotlib.pyplot as plt\n",
    "\n",
    "acc = train_metrics.history['accuracy']\n",
    "val_acc = train_metrics.history['val_accuracy']\n",
    "loss = train_metrics.history['loss']\n",
    "val_loss = train_metrics.history['val_loss']\n",
    "\n",
    "epochs = range(1,len(acc) + 1)\n",
    "\n",
    "plt.plot(epochs,acc,'bo',label = 'Training Accuracy')\n",
    "plt.plot(epochs,val_acc,'b',label = 'Validation Accuracy')\n",
    "plt.title('Training and Validation Accuracy')\n",
    "plt.legend()\n",
    "plt.figure()\n",
    "\n",
    "plt.plot(epochs,loss,'bo',label = 'Training loss')\n",
    "plt.plot(epochs,val_loss,'b',label = 'Validation Loss')\n",
    "plt.title('Training and Validation Loss')\n",
    "plt.legend()\n",
    "\n",
    "plt.show()"
   ]
  },
  {
   "cell_type": "code",
   "execution_count": 12,
   "metadata": {},
   "outputs": [],
   "source": [
    "#model.save_weights('modelhow m.h5') "
   ]
  },
  {
   "cell_type": "code",
   "execution_count": null,
   "metadata": {},
   "outputs": [],
   "source": []
  }
 ],
 "metadata": {
  "kernelspec": {
   "display_name": "Python 3",
   "language": "python",
   "name": "python3"
  },
  "language_info": {
   "codemirror_mode": {
    "name": "ipython",
    "version": 3
   },
   "file_extension": ".py",
   "mimetype": "text/x-python",
   "name": "python",
   "nbconvert_exporter": "python",
   "pygments_lexer": "ipython3",
   "version": "3.6.9"
  }
 },
 "nbformat": 4,
 "nbformat_minor": 4
}
